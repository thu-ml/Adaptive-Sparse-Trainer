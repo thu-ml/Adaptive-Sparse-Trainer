{
 "cells": [
  {
   "cell_type": "code",
   "execution_count": 7,
   "metadata": {},
   "outputs": [],
   "source": [
    "import os \n",
    "\n",
    "tokenized_dir =\"tokenized_sample_redpajama\"\n",
    "folders = {\n",
    "    \"arxiv\": 0.025, \n",
    "    \"book\": 0.045, \n",
    "    \"c4-rp\": 0.15, \n",
    "    \"cc\": 0.67,\n",
    "    \"github\": 0.045, \n",
    "    \"stackexchange\": 0.02, \n",
    "    \"wiki\": 0.045\n",
    "}\n",
    "files = open(\"jsonl_list.txt\").readlines()\n",
    "folder_to_files = {f: [] for f in folders}\n",
    "for line in files:\n",
    "    tname = os.path.join(tokenized_dir, os.path.splitext(line)[0] + \".npy\")\n",
    "    for split in folders:\n",
    "        if line[:len(split)] == split:\n",
    "            folder_to_files[split].append(tname)\n",
    "\n",
    "target_folders = [list(folders.keys())[0]] "
   ]
  },
  {
   "cell_type": "code",
   "execution_count": 2,
   "metadata": {},
   "outputs": [
    {
     "data": {
      "text/plain": [
       "['arxiv']"
      ]
     },
     "execution_count": 2,
     "metadata": {},
     "output_type": "execute_result"
    }
   ],
   "source": [
    "target_folders"
   ]
  },
  {
   "cell_type": "code",
   "execution_count": 9,
   "metadata": {},
   "outputs": [
    {
     "data": {
      "text/plain": [
       "{'arxiv': ['tokenized_sample_redpajama/arxiv/sample_arxiv2.npy',\n",
       "  'tokenized_sample_redpajama/arxiv/sample_arxiv1.npy'],\n",
       " 'book': ['tokenized_sample_redpajama/book/sample_book1.npy',\n",
       "  'tokenized_sample_redpajama/book/sample_book2.npy'],\n",
       " 'c4-rp': ['tokenized_sample_redpajama/c4-rp/sample_c4-rp2.npy',\n",
       "  'tokenized_sample_redpajama/c4-rp/sample_c4-rp1.npy'],\n",
       " 'cc': ['tokenized_sample_redpajama/cc/sample_cc1.npy',\n",
       "  'tokenized_sample_redpajama/cc/sample_cc2.npy'],\n",
       " 'github': ['tokenized_sample_redpajama/github/sample_github1.npy',\n",
       "  'tokenized_sample_redpajama/github/sample_github2.npy'],\n",
       " 'stackexchange': ['tokenized_sample_redpajama/stackexchange/sample_stackexchange1.npy',\n",
       "  'tokenized_sample_redpajama/stackexchange/sample_stackexchange2.npy'],\n",
       " 'wiki': ['tokenized_sample_redpajama/wiki/sample_wiki2.npy',\n",
       "  'tokenized_sample_redpajama/wiki/sample_wiki1.npy']}"
      ]
     },
     "execution_count": 9,
     "metadata": {},
     "output_type": "execute_result"
    }
   ],
   "source": [
    "folder_to_files"
   ]
  },
  {
   "cell_type": "code",
   "execution_count": 11,
   "metadata": {},
   "outputs": [],
   "source": [
    "folder = 'book'\n",
    "fname = folder_to_files[folder][len(folder_to_files[folder]) // 2:]"
   ]
  },
  {
   "cell_type": "code",
   "execution_count": 13,
   "metadata": {},
   "outputs": [],
   "source": [
    "import numpy as np\n",
    "data = np.load(fname[0])"
   ]
  },
  {
   "cell_type": "code",
   "execution_count": 15,
   "metadata": {},
   "outputs": [
    {
     "data": {
      "text/plain": [
       "(104, 4096)"
      ]
     },
     "execution_count": 15,
     "metadata": {},
     "output_type": "execute_result"
    }
   ],
   "source": [
    "data.shape"
   ]
  },
  {
   "cell_type": "code",
   "execution_count": 16,
   "metadata": {},
   "outputs": [
    {
     "data": {
      "text/plain": [
       "104"
      ]
     },
     "execution_count": 16,
     "metadata": {},
     "output_type": "execute_result"
    }
   ],
   "source": [
    "len(data)"
   ]
  },
  {
   "cell_type": "code",
   "execution_count": 19,
   "metadata": {},
   "outputs": [],
   "source": [
    "num_sample_each_file =1\n",
    "indices = np.random.choice(len(data), num_sample_each_file, replace=False)"
   ]
  },
  {
   "cell_type": "code",
   "execution_count": 20,
   "metadata": {},
   "outputs": [
    {
     "data": {
      "text/plain": [
       "array([61])"
      ]
     },
     "execution_count": 20,
     "metadata": {},
     "output_type": "execute_result"
    }
   ],
   "source": [
    "indices"
   ]
  },
  {
   "cell_type": "code",
   "execution_count": 21,
   "metadata": {},
   "outputs": [
    {
     "data": {
      "text/plain": [
       "0.045"
      ]
     },
     "execution_count": 21,
     "metadata": {},
     "output_type": "execute_result"
    }
   ],
   "source": [
    "folders[folder]"
   ]
  },
  {
   "cell_type": "code",
   "execution_count": 22,
   "metadata": {},
   "outputs": [
    {
     "name": "stderr",
     "output_type": "stream",
     "text": [
      "/home/ubuntu/miniconda3/envs/llama/lib/python3.10/site-packages/tqdm/auto.py:21: TqdmWarning: IProgress not found. Please update jupyter and ipywidgets. See https://ipywidgets.readthedocs.io/en/stable/user_install.html\n",
      "  from .autonotebook import tqdm as notebook_tqdm\n"
     ]
    },
    {
     "ename": "ModuleNotFoundError",
     "evalue": "No module named 'llmshearing'",
     "output_type": "error",
     "traceback": [
      "\u001b[0;31m---------------------------------------------------------------------------\u001b[0m",
      "\u001b[0;31mModuleNotFoundError\u001b[0m                       Traceback (most recent call last)",
      "Cell \u001b[0;32mIn[22], line 6\u001b[0m\n\u001b[1;32m      3\u001b[0m \u001b[38;5;28;01mimport\u001b[39;00m \u001b[38;5;21;01mnumpy\u001b[39;00m \u001b[38;5;28;01mas\u001b[39;00m \u001b[38;5;21;01mnp\u001b[39;00m\n\u001b[1;32m      4\u001b[0m \u001b[38;5;28;01mfrom\u001b[39;00m \u001b[38;5;21;01mstreaming\u001b[39;00m\u001b[38;5;21;01m.\u001b[39;00m\u001b[38;5;21;01mbase\u001b[39;00m\u001b[38;5;21;01m.\u001b[39;00m\u001b[38;5;21;01mdataset\u001b[39;00m \u001b[38;5;28;01mimport\u001b[39;00m StreamingDataset\n\u001b[0;32m----> 6\u001b[0m \u001b[38;5;28;01mfrom\u001b[39;00m \u001b[38;5;21;01mllmshearing\u001b[39;00m\u001b[38;5;21;01m.\u001b[39;00m\u001b[38;5;21;01mdatasets\u001b[39;00m\u001b[38;5;21;01m.\u001b[39;00m\u001b[38;5;21;01mstreaming_dataset\u001b[39;00m \u001b[38;5;28;01mimport\u001b[39;00m (\n\u001b[1;32m      7\u001b[0m     TextDynamicStreamingDataset, TextStreamingDataset)\n\u001b[1;32m      9\u001b[0m dataset \u001b[38;5;241m=\u001b[39m TextDynamicStreamingDataset(local\u001b[38;5;241m=\u001b[39m\u001b[38;5;124m\"\u001b[39m\u001b[38;5;124m/data/LLM-Shearing/llmshearing/data/mds_sample_redpajama/for_prune\u001b[39m\u001b[38;5;124m\"\u001b[39m,\n\u001b[1;32m     10\u001b[0m                                       set_names\u001b[38;5;241m=\u001b[39m[\u001b[38;5;124m\"\u001b[39m\u001b[38;5;124mcc\u001b[39m\u001b[38;5;124m\"\u001b[39m, \u001b[38;5;124m\"\u001b[39m\u001b[38;5;124mgithub\u001b[39m\u001b[38;5;124m\"\u001b[39m, \u001b[38;5;124m\"\u001b[39m\u001b[38;5;124mwiki\u001b[39m\u001b[38;5;124m\"\u001b[39m], \n\u001b[1;32m     11\u001b[0m                                       proportion\u001b[38;5;241m=\u001b[39m[\u001b[38;5;241m0.5\u001b[39m, \u001b[38;5;241m0.25\u001b[39m, \u001b[38;5;241m0.25\u001b[39m],\n\u001b[1;32m     12\u001b[0m                                       shuffle\u001b[38;5;241m=\u001b[39m\u001b[38;5;28;01mTrue\u001b[39;00m,\n\u001b[1;32m     13\u001b[0m                                       is_uint16\u001b[38;5;241m=\u001b[39m\u001b[38;5;28;01mTrue\u001b[39;00m,\n\u001b[1;32m     14\u001b[0m                                       max_seq_len\u001b[38;5;241m=\u001b[39m\u001b[38;5;241m4096\u001b[39m)\n",
      "\u001b[0;31mModuleNotFoundError\u001b[0m: No module named 'llmshearing'"
     ]
    }
   ],
   "source": [
    "from collections import defaultdict\n",
    "\n",
    "import numpy as np\n",
    "from streaming.base.dataset import StreamingDataset\n",
    "\n",
    "from llmshearing.datasets.streaming_dataset import (\n",
    "    TextDynamicStreamingDataset, TextStreamingDataset)\n",
    "\n",
    "dataset = TextDynamicStreamingDataset(local=\"/data/LLM-Shearing/llmshearing/data/mds_sample_redpajama/for_prune\",\n",
    "                                      set_names=[\"cc\", \"github\", \"wiki\"], \n",
    "                                      proportion=[0.5, 0.25, 0.25],\n",
    "                                      shuffle=True,\n",
    "                                      is_uint16=True,\n",
    "                                      max_seq_len=4096)"
   ]
  },
  {
   "cell_type": "code",
   "execution_count": null,
   "metadata": {},
   "outputs": [],
   "source": []
  }
 ],
 "metadata": {
  "kernelspec": {
   "display_name": "llama",
   "language": "python",
   "name": "python3"
  },
  "language_info": {
   "codemirror_mode": {
    "name": "ipython",
    "version": 3
   },
   "file_extension": ".py",
   "mimetype": "text/x-python",
   "name": "python",
   "nbconvert_exporter": "python",
   "pygments_lexer": "ipython3",
   "version": "3.10.14"
  }
 },
 "nbformat": 4,
 "nbformat_minor": 2
}
